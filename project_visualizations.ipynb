{
 "cells": [
  {
   "cell_type": "code",
   "execution_count": 1,
   "id": "9a396e0f",
   "metadata": {},
   "outputs": [],
   "source": [
    "import pandas as pd\n",
    "import seaborn as sns\n",
    "import matplotlib.pyplot as plt\n"
   ]
  },
  {
   "cell_type": "code",
   "execution_count": 5,
   "id": "89807afc",
   "metadata": {},
   "outputs": [],
   "source": [
    "top_da_skills = pd.read_csv('csv_files/top_da_skills.csv')"
   ]
  },
  {
   "cell_type": "code",
   "execution_count": 6,
   "id": "6bd19b76",
   "metadata": {},
   "outputs": [
    {
     "data": {
      "application/vnd.microsoft.datawrangler.viewer.v0+json": {
       "columns": [
        {
         "name": "index",
         "rawType": "int64",
         "type": "integer"
        },
        {
         "name": "job_id",
         "rawType": "int64",
         "type": "integer"
        },
        {
         "name": "job_title",
         "rawType": "object",
         "type": "string"
        },
        {
         "name": "company_name",
         "rawType": "object",
         "type": "string"
        },
        {
         "name": "salary_year_avg",
         "rawType": "float64",
         "type": "float"
        },
        {
         "name": "skills",
         "rawType": "object",
         "type": "string"
        }
       ],
       "ref": "5dad33b3-1d65-441a-bfcb-5b98cb75144f",
       "rows": [
        [
         "0",
         "552322",
         "Associate Director- Data Insights",
         "AT&T",
         "255829.5",
         "sql"
        ],
        [
         "1",
         "552322",
         "Associate Director- Data Insights",
         "AT&T",
         "255829.5",
         "python"
        ],
        [
         "2",
         "552322",
         "Associate Director- Data Insights",
         "AT&T",
         "255829.5",
         "r"
        ],
        [
         "3",
         "552322",
         "Associate Director- Data Insights",
         "AT&T",
         "255829.5",
         "azure"
        ],
        [
         "4",
         "552322",
         "Associate Director- Data Insights",
         "AT&T",
         "255829.5",
         "databricks"
        ]
       ],
       "shape": {
        "columns": 5,
        "rows": 5
       }
      },
      "text/html": [
       "<div>\n",
       "<style scoped>\n",
       "    .dataframe tbody tr th:only-of-type {\n",
       "        vertical-align: middle;\n",
       "    }\n",
       "\n",
       "    .dataframe tbody tr th {\n",
       "        vertical-align: top;\n",
       "    }\n",
       "\n",
       "    .dataframe thead th {\n",
       "        text-align: right;\n",
       "    }\n",
       "</style>\n",
       "<table border=\"1\" class=\"dataframe\">\n",
       "  <thead>\n",
       "    <tr style=\"text-align: right;\">\n",
       "      <th></th>\n",
       "      <th>job_id</th>\n",
       "      <th>job_title</th>\n",
       "      <th>company_name</th>\n",
       "      <th>salary_year_avg</th>\n",
       "      <th>skills</th>\n",
       "    </tr>\n",
       "  </thead>\n",
       "  <tbody>\n",
       "    <tr>\n",
       "      <th>0</th>\n",
       "      <td>552322</td>\n",
       "      <td>Associate Director- Data Insights</td>\n",
       "      <td>AT&amp;T</td>\n",
       "      <td>255829.5</td>\n",
       "      <td>sql</td>\n",
       "    </tr>\n",
       "    <tr>\n",
       "      <th>1</th>\n",
       "      <td>552322</td>\n",
       "      <td>Associate Director- Data Insights</td>\n",
       "      <td>AT&amp;T</td>\n",
       "      <td>255829.5</td>\n",
       "      <td>python</td>\n",
       "    </tr>\n",
       "    <tr>\n",
       "      <th>2</th>\n",
       "      <td>552322</td>\n",
       "      <td>Associate Director- Data Insights</td>\n",
       "      <td>AT&amp;T</td>\n",
       "      <td>255829.5</td>\n",
       "      <td>r</td>\n",
       "    </tr>\n",
       "    <tr>\n",
       "      <th>3</th>\n",
       "      <td>552322</td>\n",
       "      <td>Associate Director- Data Insights</td>\n",
       "      <td>AT&amp;T</td>\n",
       "      <td>255829.5</td>\n",
       "      <td>azure</td>\n",
       "    </tr>\n",
       "    <tr>\n",
       "      <th>4</th>\n",
       "      <td>552322</td>\n",
       "      <td>Associate Director- Data Insights</td>\n",
       "      <td>AT&amp;T</td>\n",
       "      <td>255829.5</td>\n",
       "      <td>databricks</td>\n",
       "    </tr>\n",
       "  </tbody>\n",
       "</table>\n",
       "</div>"
      ],
      "text/plain": [
       "   job_id                          job_title company_name  salary_year_avg  \\\n",
       "0  552322  Associate Director- Data Insights         AT&T         255829.5   \n",
       "1  552322  Associate Director- Data Insights         AT&T         255829.5   \n",
       "2  552322  Associate Director- Data Insights         AT&T         255829.5   \n",
       "3  552322  Associate Director- Data Insights         AT&T         255829.5   \n",
       "4  552322  Associate Director- Data Insights         AT&T         255829.5   \n",
       "\n",
       "       skills  \n",
       "0         sql  \n",
       "1      python  \n",
       "2           r  \n",
       "3       azure  \n",
       "4  databricks  "
      ]
     },
     "execution_count": 6,
     "metadata": {},
     "output_type": "execute_result"
    }
   ],
   "source": [
    "top_da_skills.head()"
   ]
  }
 ],
 "metadata": {
  "kernelspec": {
   "display_name": "python_course",
   "language": "python",
   "name": "python3"
  },
  "language_info": {
   "codemirror_mode": {
    "name": "ipython",
    "version": 3
   },
   "file_extension": ".py",
   "mimetype": "text/x-python",
   "name": "python",
   "nbconvert_exporter": "python",
   "pygments_lexer": "ipython3",
   "version": "3.11.11"
  }
 },
 "nbformat": 4,
 "nbformat_minor": 5
}
